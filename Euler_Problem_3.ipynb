{
 "cells": [
  {
   "cell_type": "code",
   "execution_count": 33,
   "id": "1549a0c2",
   "metadata": {
    "scrolled": true
   },
   "outputs": [
    {
     "name": "stdout",
     "output_type": "stream",
     "text": [
      "71 8462696833.0\n",
      "839 10086647.0\n",
      "1471 6857.0\n"
     ]
    }
   ],
   "source": [
    "'''\n",
    "The prime factors of 13195 are 5,7,13 and 29.\n",
    "What is the largest prime factor of the number 600851475143\n",
    "'''\n",
    "#specify the number for which we want the \n",
    "number=600851475143\n",
    "\n",
    "factor_limit=3 #this is the maximium value that the number will be divided by  \n",
    "while number > factor_limit: \n",
    "    for value in range (2,factor_limit): #check for primes\n",
    "        if factor_limit%value==0:\n",
    "            break \n",
    "    else:\n",
    "        if number%factor_limit==0:\n",
    "            number=number/factor_limit#if it is a prime that the number is divisible by, do so.\n",
    "            print(factor_limit,number) #print the values the number was divided by and the number at the time. \n",
    "    factor_limit+=1 #increase the value attempted to be the divisor by 1\n",
    "  "
   ]
  }
 ],
 "metadata": {
  "kernelspec": {
   "display_name": "Python 3 (ipykernel)",
   "language": "python",
   "name": "python3"
  },
  "language_info": {
   "codemirror_mode": {
    "name": "ipython",
    "version": 3
   },
   "file_extension": ".py",
   "mimetype": "text/x-python",
   "name": "python",
   "nbconvert_exporter": "python",
   "pygments_lexer": "ipython3",
   "version": "3.11.4"
  }
 },
 "nbformat": 4,
 "nbformat_minor": 5
}
