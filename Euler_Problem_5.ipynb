{
 "cells": [
  {
   "cell_type": "code",
   "execution_count": 8,
   "id": "1549a0c2",
   "metadata": {
    "scrolled": true
   },
   "outputs": [
    {
     "name": "stdout",
     "output_type": "stream",
     "text": [
      "20 1\n",
      "20 2\n",
      "20 4\n",
      "20 5\n",
      "20 10\n",
      "19 1\n",
      "18 1\n",
      "18 2\n",
      "18 3\n",
      "18 6\n",
      "18 9\n",
      "17 1\n",
      "16 1\n",
      "16 2\n",
      "16 4\n",
      "16 8\n",
      "15 1\n",
      "15 3\n",
      "15 5\n",
      "14 1\n",
      "14 2\n",
      "14 7\n",
      "13 1\n",
      "12 1\n",
      "12 2\n",
      "12 3\n",
      "12 4\n",
      "12 6\n",
      "11 1\n",
      "10 1\n",
      "10 2\n",
      "10 5\n",
      "9 1\n",
      "9 3\n",
      "8 1\n",
      "8 2\n",
      "8 4\n",
      "7 1\n",
      "6 1\n",
      "6 2\n",
      "6 3\n",
      "5 1\n",
      "4 1\n",
      "4 2\n",
      "3 1\n",
      "2 1\n"
     ]
    }
   ],
   "source": [
    "'''\n",
    "2520 is the smallest number that can be divided by each of the numbers from 1 to 10 without any remainder.\n",
    "What is the smallest positive number that is evenly divisible by all of the numbers from 1 to 20 ?\n",
    "'''\n",
    "\n",
    "#from 20 downwards tried to division, if its prime add it to a list.\n",
    "#if its a number print the factors and compare\n",
    "\n",
    "for i in range (20,0,-1):\n",
    "    for j in range(1,i):\n",
    "        if i%j==0:\n",
    "            print(i,j)\n"
   ]
  },
  {
   "cell_type": "code",
   "execution_count": null,
   "id": "a1dc813f",
   "metadata": {},
   "outputs": [],
   "source": [
    "num1=91\n",
    "num2=99\n",
    "\n",
    "pal=str(num1*num2)\n",
    "\n",
    "if pal[0]==pal[3]:\n",
    "    print (\"true\")\n",
    "else:\n",
    "    print(\"false\")\n",
    "\n"
   ]
  }
 ],
 "metadata": {
  "kernelspec": {
   "display_name": "Python 3 (ipykernel)",
   "language": "python",
   "name": "python3"
  },
  "language_info": {
   "codemirror_mode": {
    "name": "ipython",
    "version": 3
   },
   "file_extension": ".py",
   "mimetype": "text/x-python",
   "name": "python",
   "nbconvert_exporter": "python",
   "pygments_lexer": "ipython3",
   "version": "3.11.4"
  }
 },
 "nbformat": 4,
 "nbformat_minor": 5
}
