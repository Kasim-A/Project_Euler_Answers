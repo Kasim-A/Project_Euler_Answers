{
 "cells": [
  {
   "cell_type": "code",
   "execution_count": 61,
   "id": "1549a0c2",
   "metadata": {
    "scrolled": true
   },
   "outputs": [
    {
     "name": "stdout",
     "output_type": "stream",
     "text": [
      "232792560\n"
     ]
    }
   ],
   "source": [
    "'''\n",
    "2520 is the smallest number that can be divided by each of the numbers from 1 to 10 without any remainder.\n",
    "What is the smallest positive number that is evenly divisible by all of the numbers from 1 to 20 ?\n",
    "'''\n",
    "\n",
    "#Find the lowest common multiples of 2 numbers, first find the greater value\n",
    "def LCM(a,b):\n",
    "    if b>a:\n",
    "        maxi=b \n",
    "        mini=a\n",
    "    elif b<a:\n",
    "        maxi=a \n",
    "        mini=b\n",
    "    else:\n",
    "        return a\n",
    "    \n",
    "    original_maxi=maxi\n",
    "    \n",
    "    while maxi%mini!=0:\n",
    "        maxi+=original_maxi #if the smaller value is not a multiple of the greater value increase the greater value by its value\n",
    "    return maxi\n",
    "    \n",
    "Total=1 #running total of multiples\n",
    "for i in range(1,21):\n",
    "    Total=LCM(Total,i) #keep iterating with the a argument changing with total\n",
    "    \n",
    "print(Total)"
   ]
  }
 ],
 "metadata": {
  "kernelspec": {
   "display_name": "Python 3 (ipykernel)",
   "language": "python",
   "name": "python3"
  },
  "language_info": {
   "codemirror_mode": {
    "name": "ipython",
    "version": 3
   },
   "file_extension": ".py",
   "mimetype": "text/x-python",
   "name": "python",
   "nbconvert_exporter": "python",
   "pygments_lexer": "ipython3",
   "version": "3.11.4"
  }
 },
 "nbformat": 4,
 "nbformat_minor": 5
}
