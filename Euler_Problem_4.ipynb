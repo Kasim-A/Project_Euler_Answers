{
 "cells": [
  {
   "cell_type": "code",
   "execution_count": 32,
   "id": "1549a0c2",
   "metadata": {
    "scrolled": true
   },
   "outputs": [
    {
     "name": "stdout",
     "output_type": "stream",
     "text": [
      "906609\n"
     ]
    }
   ],
   "source": [
    "'''\n",
    "A palindromic number reads the same both ways. \n",
    "The largest palindrome made from the product of two 2-digit numbers is 9009=91 x 99\n",
    "Find the largest palindrome made from the product of two 3-digit numbers.\n",
    "'''\n",
    "\n",
    "pallindrome=[]\n",
    "#perform a multiplication between 2 3-digit numbers\n",
    "for i in range(100,999):\n",
    "    for j in range(100,999):\n",
    "        pal=str(i*j) #split the number into the string so i can compare individual digits\n",
    "        if len(pal)==6  and pal[0]==pal[5] and pal[1]==pal[4] and pal[2]==pal[3]: \n",
    "            pallindrome.append(pal) #append those that satisfy pallindrome to a list\n",
    "\n",
    "print (max(pallindrome)) #print the max value in the list\n",
    "\n"
   ]
  }
 ],
 "metadata": {
  "kernelspec": {
   "display_name": "Python 3 (ipykernel)",
   "language": "python",
   "name": "python3"
  },
  "language_info": {
   "codemirror_mode": {
    "name": "ipython",
    "version": 3
   },
   "file_extension": ".py",
   "mimetype": "text/x-python",
   "name": "python",
   "nbconvert_exporter": "python",
   "pygments_lexer": "ipython3",
   "version": "3.11.4"
  }
 },
 "nbformat": 4,
 "nbformat_minor": 5
}
