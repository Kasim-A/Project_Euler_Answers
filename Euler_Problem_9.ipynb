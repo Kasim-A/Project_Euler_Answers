{
 "cells": [
  {
   "cell_type": "code",
   "execution_count": null,
   "id": "af8b7856",
   "metadata": {},
   "outputs": [
    {
     "name": "stdout",
     "output_type": "stream",
     "text": [
      "31875000\n"
     ]
    }
   ],
   "source": [
    "'''A Pythagorean triplet is a set of three natural numbers, a < b < c, for which,\n",
    "a^2 + b^2 = c^2.\n",
    "For example, 3^2 + 4^2 = 9 + 16 = 25 = 5^2.\n",
    "There exists exactly one Pythagorean triplet for which a + b + c = 1000 Find the product abc'''\n",
    "\n",
    "#the sum of the 3 numbers is 1000\n",
    "#c is the greatest\n",
    "#a is the smallest\n",
    "#a^2 + b^2 = c^2\n",
    "#for values that satisfy return a*b*c\n",
    "for c in range(3,1000):\n",
    "    for b in range(2,c):\n",
    "        for a in range(1,b):   \n",
    "            i=(a**2+b**2)\n",
    "            j=(c**2)\n",
    "            if i==j and a+b+c==1000:\n",
    "                print(a*b*c)"
   ]
  }
 ],
 "metadata": {
  "kernelspec": {
   "display_name": "Python 3 (ipykernel)",
   "language": "python",
   "name": "python3"
  },
  "language_info": {
   "codemirror_mode": {
    "name": "ipython",
    "version": 3
   },
   "file_extension": ".py",
   "mimetype": "text/x-python",
   "name": "python",
   "nbconvert_exporter": "python",
   "pygments_lexer": "ipython3",
   "version": "3.11.4"
  }
 },
 "nbformat": 4,
 "nbformat_minor": 5
}
