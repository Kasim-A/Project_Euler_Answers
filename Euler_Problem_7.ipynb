{
 "cells": [
  {
   "cell_type": "code",
   "execution_count": 18,
   "id": "1549a0c2",
   "metadata": {
    "scrolled": true
   },
   "outputs": [
    {
     "name": "stdout",
     "output_type": "stream",
     "text": [
      "104743\n"
     ]
    }
   ],
   "source": [
    "'''\n",
    "By listing the first six prime numbers: 2, 3, 5, 7, 11, and 13, we can see that the 6th prime is 13.\n",
    "What is the 10,001st prime number?\n",
    "'''\n",
    "primes=[2]\n",
    "count=3\n",
    "\n",
    "while len(primes)<10001:#limit the number of primes to 10001\n",
    "    for prime in primes:\n",
    "        if count%prime==0:#increase count by 1, checking each time if it is divisible by the found primes\n",
    "            break\n",
    "    else:\n",
    "           primes.append(count)#append primes if they are not divisible\n",
    "            \n",
    "    count+=2#increase count by 2 because no prime will be even after 2\n",
    "        \n",
    "    #print(count)    \n",
    "print(max(primes))"
   ]
  }
 ],
 "metadata": {
  "kernelspec": {
   "display_name": "Python 3 (ipykernel)",
   "language": "python",
   "name": "python3"
  },
  "language_info": {
   "codemirror_mode": {
    "name": "ipython",
    "version": 3
   },
   "file_extension": ".py",
   "mimetype": "text/x-python",
   "name": "python",
   "nbconvert_exporter": "python",
   "pygments_lexer": "ipython3",
   "version": "3.11.4"
  }
 },
 "nbformat": 4,
 "nbformat_minor": 5
}
